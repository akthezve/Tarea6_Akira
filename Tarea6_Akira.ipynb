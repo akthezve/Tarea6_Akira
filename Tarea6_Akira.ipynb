{
 "cells": [
  {
   "cell_type": "markdown",
   "id": "eac1105f-4dfb-408f-83c7-2e34bb9f86ef",
   "metadata": {},
   "source": [
    "### <center><h2> INGENIERÍA EN BIOTECNOLOGÍA</h2></center>\n",
    "# <center><h1 style=\"color:orange\">GBI6 - BIOINFORMÁTICA</h1></center>\n",
    "\n",
    "\n",
    "<img src=\"https://www.ikiam.edu.ec/img/logo-ikiam-grey.png\" width=400 height=300 />\n",
    "\n",
    "\n",
    "# TAREA6_alelos\n",
    "\n",
    "#### Nombre: Akira Gómez\n",
    "\n",
    "En esta actividad debe realizar lo siguiente: \n",
    "\n",
    "- Crear un módulo alelos.py con las tres funciones de \"Creación de la población\", \"Cuantificación de frecuencias de alelos\" y \"Creación de la población hijo\". Cada función debe tener una sección de explicación de lo que hace, la explicación de las variables de entrrada y salida.\n",
    "\n",
    "- Crear un Júpiter Notebook tarea6_alelos.ipynb, cargar el módulo alelos y ejecutar las funciones hasta obtener la generación 100. Asegurarse que este cuaderno de jupyter tenga sus datos personales, texto de explicación del ejercicio y de los resultados. Inserte al menos una imagen (logo de Ikiam). Asegurarse que el cuaderno tiene los resultados de ejecución de los bloques de código.\n",
    "\n",
    "- Crear un repositorio en GitHub de nombre tarea6 y guardar los dos archivos de la tarea. El repositorio debe tener una Readme con los detalles de la actividad.\n",
    "\n"
   ]
  },
  {
   "cell_type": "markdown",
   "id": "30dca37a-5963-4d62-9b94-9a6ba3b2c77f",
   "metadata": {},
   "source": [
    "##### Se importará alelos.py para usar sus funciones"
   ]
  },
  {
   "cell_type": "code",
   "execution_count": 1,
   "id": "fb18d977-78c7-4948-b3d9-9174511ea0e1",
   "metadata": {},
   "outputs": [],
   "source": [
    "import alelos"
   ]
  },
  {
   "cell_type": "markdown",
   "id": "34c0abc0-46f9-4570-b85f-2da67bf08aff",
   "metadata": {},
   "source": [
    "#### Se creará una poblacion, se reproducirá hasta llegar a la generacion 100 para  procesar los mismos y hacer en forma de bulce aleatorio."
   ]
  },
  {
   "cell_type": "code",
   "execution_count": 36,
   "id": "e2fc7a5c-4ca8-4f44-b2d7-04d6da8eac16",
   "metadata": {},
   "outputs": [
    {
     "data": {
      "text/plain": [
       "[{'AA': 0, 'aa': 0, 'Aa': 0, 'aA': 0},\n",
       " {'AA': 0, 'aa': 0, 'Aa': 0, 'aA': 1},\n",
       " {'AA': 1, 'aa': 0, 'Aa': 1, 'aA': 0},\n",
       " {'AA': 0, 'aa': 0, 'Aa': 2, 'aA': 1},\n",
       " {'AA': 1, 'aa': 1, 'Aa': 0, 'aA': 2},\n",
       " {'AA': 2, 'aa': 0, 'Aa': 2, 'aA': 1},\n",
       " {'AA': 2, 'aa': 1, 'Aa': 1, 'aA': 2},\n",
       " {'AA': 2, 'aa': 1, 'Aa': 2, 'aA': 2},\n",
       " {'AA': 0, 'aa': 3, 'Aa': 4, 'aA': 1},\n",
       " {'AA': 2, 'aa': 3, 'Aa': 0, 'aA': 4},\n",
       " {'AA': 5, 'aa': 0, 'Aa': 3, 'aA': 2},\n",
       " {'AA': 5, 'aa': 4, 'Aa': 2, 'aA': 0},\n",
       " {'AA': 2, 'aa': 2, 'Aa': 0, 'aA': 8},\n",
       " {'AA': 5, 'aa': 2, 'Aa': 5, 'aA': 1},\n",
       " {'AA': 6, 'aa': 2, 'Aa': 1, 'aA': 5},\n",
       " {'AA': 9, 'aa': 1, 'Aa': 2, 'aA': 3},\n",
       " {'AA': 3, 'aa': 4, 'Aa': 4, 'aA': 5},\n",
       " {'AA': 8, 'aa': 3, 'Aa': 3, 'aA': 3},\n",
       " {'AA': 9, 'aa': 1, 'Aa': 6, 'aA': 2},\n",
       " {'AA': 4, 'aa': 4, 'Aa': 9, 'aA': 2},\n",
       " {'AA': 4, 'aa': 4, 'Aa': 7, 'aA': 5},\n",
       " {'AA': 7, 'aa': 2, 'Aa': 6, 'aA': 6},\n",
       " {'AA': 11, 'aa': 1, 'Aa': 5, 'aA': 5},\n",
       " {'AA': 8, 'aa': 5, 'Aa': 5, 'aA': 5},\n",
       " {'AA': 8, 'aa': 3, 'Aa': 10, 'aA': 3},\n",
       " {'AA': 8, 'aa': 2, 'Aa': 9, 'aA': 6},\n",
       " {'AA': 14, 'aa': 3, 'Aa': 7, 'aA': 2},\n",
       " {'AA': 8, 'aa': 2, 'Aa': 9, 'aA': 8},\n",
       " {'AA': 10, 'aa': 4, 'Aa': 9, 'aA': 5},\n",
       " {'AA': 16, 'aa': 3, 'Aa': 8, 'aA': 2},\n",
       " {'AA': 13, 'aa': 2, 'Aa': 10, 'aA': 5},\n",
       " {'AA': 14, 'aa': 4, 'Aa': 6, 'aA': 7},\n",
       " {'AA': 9, 'aa': 6, 'Aa': 5, 'aA': 12},\n",
       " {'AA': 8, 'aa': 11, 'Aa': 6, 'aA': 8},\n",
       " {'AA': 12, 'aa': 3, 'Aa': 9, 'aA': 10},\n",
       " {'AA': 13, 'aa': 3, 'Aa': 9, 'aA': 10},\n",
       " {'AA': 12, 'aa': 6, 'Aa': 7, 'aA': 11},\n",
       " {'AA': 14, 'aa': 2, 'Aa': 12, 'aA': 9},\n",
       " {'AA': 12, 'aa': 7, 'Aa': 12, 'aA': 7},\n",
       " {'AA': 15, 'aa': 4, 'Aa': 12, 'aA': 8},\n",
       " {'AA': 16, 'aa': 6, 'Aa': 9, 'aA': 9},\n",
       " {'AA': 23, 'aa': 0, 'Aa': 7, 'aA': 11},\n",
       " {'AA': 12, 'aa': 11, 'Aa': 7, 'aA': 12},\n",
       " {'AA': 14, 'aa': 4, 'Aa': 15, 'aA': 10},\n",
       " {'AA': 14, 'aa': 9, 'Aa': 11, 'aA': 10},\n",
       " {'AA': 19, 'aa': 3, 'Aa': 12, 'aA': 11},\n",
       " {'AA': 19, 'aa': 10, 'Aa': 5, 'aA': 12},\n",
       " {'AA': 18, 'aa': 7, 'Aa': 7, 'aA': 15},\n",
       " {'AA': 21, 'aa': 4, 'Aa': 13, 'aA': 10},\n",
       " {'AA': 18, 'aa': 4, 'Aa': 14, 'aA': 13},\n",
       " {'AA': 22, 'aa': 9, 'Aa': 8, 'aA': 11},\n",
       " {'AA': 17, 'aa': 7, 'Aa': 9, 'aA': 18},\n",
       " {'AA': 16, 'aa': 5, 'Aa': 13, 'aA': 18},\n",
       " {'AA': 18, 'aa': 10, 'Aa': 11, 'aA': 14},\n",
       " {'AA': 13, 'aa': 8, 'Aa': 12, 'aA': 21},\n",
       " {'AA': 25, 'aa': 6, 'Aa': 14, 'aA': 10},\n",
       " {'AA': 12, 'aa': 16, 'Aa': 14, 'aA': 14},\n",
       " {'AA': 20, 'aa': 9, 'Aa': 13, 'aA': 15},\n",
       " {'AA': 30, 'aa': 8, 'Aa': 11, 'aA': 9},\n",
       " {'AA': 20, 'aa': 14, 'Aa': 14, 'aA': 11},\n",
       " {'AA': 23, 'aa': 11, 'Aa': 12, 'aA': 14},\n",
       " {'AA': 26, 'aa': 7, 'Aa': 14, 'aA': 14},\n",
       " {'AA': 29, 'aa': 11, 'Aa': 10, 'aA': 12},\n",
       " {'AA': 19, 'aa': 10, 'Aa': 16, 'aA': 18},\n",
       " {'AA': 26, 'aa': 7, 'Aa': 13, 'aA': 18},\n",
       " {'AA': 25, 'aa': 10, 'Aa': 12, 'aA': 18},\n",
       " {'AA': 34, 'aa': 10, 'Aa': 10, 'aA': 12},\n",
       " {'AA': 16, 'aa': 15, 'Aa': 16, 'aA': 20},\n",
       " {'AA': 30, 'aa': 6, 'Aa': 17, 'aA': 15},\n",
       " {'AA': 21, 'aa': 13, 'Aa': 19, 'aA': 16},\n",
       " {'AA': 31, 'aa': 9, 'Aa': 13, 'aA': 17},\n",
       " {'AA': 30, 'aa': 13, 'Aa': 13, 'aA': 15},\n",
       " {'AA': 23, 'aa': 13, 'Aa': 15, 'aA': 21},\n",
       " {'AA': 25, 'aa': 14, 'Aa': 17, 'aA': 17},\n",
       " {'AA': 23, 'aa': 16, 'Aa': 22, 'aA': 13},\n",
       " {'AA': 25, 'aa': 8, 'Aa': 20, 'aA': 22},\n",
       " {'AA': 33, 'aa': 12, 'Aa': 11, 'aA': 20},\n",
       " {'AA': 30, 'aa': 9, 'Aa': 19, 'aA': 19},\n",
       " {'AA': 38, 'aa': 8, 'Aa': 16, 'aA': 16},\n",
       " {'AA': 30, 'aa': 10, 'Aa': 20, 'aA': 19},\n",
       " {'AA': 35, 'aa': 13, 'Aa': 18, 'aA': 14},\n",
       " {'AA': 30, 'aa': 13, 'Aa': 23, 'aA': 15},\n",
       " {'AA': 29, 'aa': 10, 'Aa': 17, 'aA': 26},\n",
       " {'AA': 29, 'aa': 16, 'Aa': 18, 'aA': 20},\n",
       " {'AA': 40, 'aa': 7, 'Aa': 20, 'aA': 17},\n",
       " {'AA': 28, 'aa': 11, 'Aa': 26, 'aA': 20},\n",
       " {'AA': 35, 'aa': 13, 'Aa': 16, 'aA': 22},\n",
       " {'AA': 37, 'aa': 13, 'Aa': 22, 'aA': 15},\n",
       " {'AA': 29, 'aa': 17, 'Aa': 17, 'aA': 25},\n",
       " {'AA': 26, 'aa': 16, 'Aa': 24, 'aA': 23},\n",
       " {'AA': 28, 'aa': 20, 'Aa': 20, 'aA': 22},\n",
       " {'AA': 48, 'aa': 10, 'Aa': 20, 'aA': 13},\n",
       " {'AA': 42, 'aa': 8, 'Aa': 25, 'aA': 17},\n",
       " {'AA': 37, 'aa': 17, 'Aa': 19, 'aA': 20},\n",
       " {'AA': 36, 'aa': 8, 'Aa': 24, 'aA': 26},\n",
       " {'AA': 33, 'aa': 17, 'Aa': 19, 'aA': 26},\n",
       " {'AA': 28, 'aa': 14, 'Aa': 25, 'aA': 29},\n",
       " {'AA': 34, 'aa': 18, 'Aa': 20, 'aA': 25},\n",
       " {'AA': 36, 'aa': 13, 'Aa': 33, 'aA': 16},\n",
       " {'AA': 44, 'aa': 12, 'Aa': 21, 'aA': 22}]"
      ]
     },
     "execution_count": 36,
     "metadata": {},
     "output_type": "execute_result"
    }
   ],
   "source": [
    "fr = [alelos.creacion_alelos(x, 0.60) for x in range(0, 100)]\n",
    "nuevas = [alelos.reproduce_population(i) for i in fr]\n",
    "nuevas2 = [alelos.compute_frequencies(u) for u in nuevas]\n",
    "nuevas2"
   ]
  },
  {
   "cell_type": "markdown",
   "id": "c3122e6c-3daa-4ac0-9b66-a8fd941b0407",
   "metadata": {},
   "source": []
  },
  {
   "cell_type": "code",
   "execution_count": null,
   "id": "fe8fe493",
   "metadata": {},
   "outputs": [],
   "source": []
  }
 ],
 "metadata": {
  "kernelspec": {
   "display_name": "Python 3 (ipykernel)",
   "language": "python",
   "name": "python3"
  },
  "language_info": {
   "codemirror_mode": {
    "name": "ipython",
    "version": 3
   },
   "file_extension": ".py",
   "mimetype": "text/x-python",
   "name": "python",
   "nbconvert_exporter": "python",
   "pygments_lexer": "ipython3",
   "version": "3.9.12"
  }
 },
 "nbformat": 4,
 "nbformat_minor": 5
}
