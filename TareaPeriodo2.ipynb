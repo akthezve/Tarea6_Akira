{
 "cells": [
  {
   "cell_type": "markdown",
   "id": "50b2cabf",
   "metadata": {},
   "source": [
    "###  <center><h2> INGENIERÍA EN BIOTECNOLOGÍA</h2></center>\n",
    "\n",
    "# <center><h1 style=\"color:green\">GBI6 - BIOINFORMÁTICA</h1></center>\n",
    "<img src=\"https://upload.wikimedia.org/wikipedia/commons/thumb/d/de/Logotipo_Ikiam.png/1200px-Logotipo_Ikiam.png\" width=400 heigth=300 />\n",
    "\n",
    "# <center><h1 style=\"color:blue\">Deber de Manipulacion</h1></center>"
   ]
  },
  {
   "cell_type": "markdown",
   "id": "da09e38b",
   "metadata": {},
   "source": [
    "# <center><h1 style=\"color:crimson\">Dogma central de la biologia</h1></center>\n",
    "<h1 style=\"color:black\">El dogma central de la biología es la generación de moléculas de ARN o RNA para permitir  la síntesis de proteínas a nivel citoplasmático. Al finlal de esta síntesis se da la creación de proteínas mediante la transcripción que ocurre en el núcleo usando el ADN para crear una nueva molécula de ARN y traducción lee el código genético en el ARNm para crear una proteína. La transcripción es la primera parte del dogma central de la biología molecular: ADN → ARN. Es la transferencia de instrucciones genéticas en el ADN al ARN mensajero (ARNm). Durante la transcripción, se crea una hebra de ARNm que es complementaria a la hebra de ADN. La transcripción consiste en la síntesis de ARN tomando como molde ADN y significa el paso de la información contenida en el ADN hacia el ARN. La traducción implica \"decodificar\" un mensaje del ARN mensajero (ARNm) y utilizar su información para construir un polipéptido o cadena de aminoácidos. En la mayoría de los casos, un polipéptido no es más que una proteina (con la diferencia técnica de que algunas proteínas grandes se conforman de varias cadenas de polipéptidos. </h1></center>\n",
    "<img src=\"https://cdn.kastatic.org/ka-perseus-images/0f84f6d4797b9d72eea89d4d9c4b097694a78a5c.png\" width=400 height=300 />\n",
    "<h1 style=\"color:blue\"> Hay 616161 codones distintos para aminoácidos</h1></center>\n",
    "<h1 style=\"color:purple\"> Tres codones de \"alto\" indican que el polipéptido ha terminado</h1></center>\n",
    "<h1 style=\"color:orange\"> Un codón AUG, es la señal de \"inicio\" para comenzar la traducción (además especifica el aminoácido metionina).</h1></center>\n",
    "<h1 style=\"color:black\"> Estas relaciones entre los codones del ARNm y los aminoácidos se conoce como el código genético.</h1></center>\n",
    "<img src=\"https://cdn.kastatic.org/ka-perseus-images/a736126e791afe019d17e4d1a1e6a10eff462cf5.png\" width=400 height=300 />"
   ]
  },
  {
   "cell_type": "code",
   "execution_count": 7,
   "id": "543a1539",
   "metadata": {},
   "outputs": [
    {
     "name": "stdout",
     "output_type": "stream",
     "text": [
      "AAGGACCNGACATCCATCGCTGATGTCAATCCCCCGTGGATCGTAAGTCCGGGAGTAGGAGGAGGAAGGGTCGTCCCACAGTGCGAAGAGGCTTCTGACCTACTGACGGTACCTCCTCAGTGTCAGCCTATAGTCGGAGCTCGAGGGAGACTCGGTCCTCTGTAAAAGTCCGAATACCTTTGATGAAGGAGGTCTTCTATAGGACGGTAG\n"
     ]
    }
   ],
   "source": [
    "seq = \"AAGGACCNGACATCCATCGCTGATGTCAATCCCCCGTGGATCGTAAGTCCGGGAGTAGGAGGAGGAAGGGTCGTCCCACAGTGCGAAGAGGCTTCTGACCTACTGACGGTACCTCCTCAGTGTCAGCCTATAGTCGGAGCTCGAGGGAGACTCGGTCCTCTGTAAAAGTCCGAATACCTTTGATGAAGGAGGTCTTCTATAGGACGGTAG\"\n",
    "print(seq)\n",
    "#Imprimir secuencia"
   ]
  },
  {
   "cell_type": "code",
   "execution_count": 9,
   "id": "273ad181",
   "metadata": {},
   "outputs": [
    {
     "name": "stdout",
     "output_type": "stream",
     "text": [
      "AAGGACCGACATCCATCGCTGATGTCAATCCCCCGTGGATCGTAAGTCCGGGAGTAGGAGGAGGAAGGGTCGTCCCACAGTGCGAAGAGGCTTCTGACCTACTGACGGTACCTCCTCAGTGTCAGCCTATAGTCGGAGCTCGAGGGAGACTCGGTCCTCTGTAAAAGTCCGAATACCTTTGATGAAGGAGGTCTTCTATAGGACGGTAG\n"
     ]
    }
   ],
   "source": [
    "#Quitamos la N de la secuencia\n",
    "seq2= seq.replace(\"N\", \"\")\n",
    "print(seq2)#codigo para imprimir "
   ]
  },
  {
   "cell_type": "code",
   "execution_count": 10,
   "id": "286bee3d",
   "metadata": {},
   "outputs": [
    {
     "data": {
      "text/plain": [
       "54.54545454545455"
      ]
     },
     "execution_count": 10,
     "metadata": {},
     "output_type": "execute_result"
    }
   ],
   "source": [
    "#PORCENTAJE DE GC\n",
    "Nc= seq2.count(\"C\")#codigo para contar C\n",
    "Ng= seq2.count(\"G\")#codigo para contar G\n",
    "len_seq2= len(seq2)#codigo para contar todo los caracteres\n",
    "percent_GC= 100*(Nc+Ng)/len_seq2 #calculo de porcentaje\n",
    "percent_GC"
   ]
  },
  {
   "cell_type": "code",
   "execution_count": 11,
   "id": "66ffde5d",
   "metadata": {},
   "outputs": [
    {
     "name": "stdout",
     "output_type": "stream",
     "text": [
      "UUCCUGGCUGUAGGUAGCGACUACAGUUAGGGGGCACCUAGCAUUCAGGCCCUCAUCCUCCUCCUUCCCAGCAGGGUGUCACGCUUCUCCGAAGACUGGAUGACUGCCAUGGAGGAGUCACAGUCGGAUAUCAGCCUCGAGCUCCCUCUGAGCCAGGAGACAUUUUCAGGCUUAUGGAAACUACUUCCUCCAGAAGAUAUCCUGCCAUC\n"
     ]
    }
   ],
   "source": [
    "#Para sacar complemento de secuencia\n",
    "seq3= seq2.replace (\"A\", \"U\")#Remplazamos A por U \n",
    "seq4= seq3.replace (\"T\", \"a\")#Remplazamos T por a\n",
    "seq5= seq4.replace (\"C\", \"g\")#Remplazamos C por g\n",
    "seq6= seq5.replace (\"G\", \"c\")#Remplazamos G por c\n",
    "cseq= seq6.upper()#El codigo anterior no quedo en minusculas en esta seccion tranformamos todas a mayusculas\n",
    "print(cseq)"
   ]
  },
  {
   "cell_type": "code",
   "execution_count": 12,
   "id": "03eaf979",
   "metadata": {},
   "outputs": [
    {
     "name": "stdout",
     "output_type": "stream",
     "text": [
      "CUACCGUCCUAUAGAAGACCUCCUUCAUCAAAGGUAUUCGGACUUUUACAGAGGACCGAGUCUCCCUCGAGCUCCGACUAUAGGCUGACACUGAGGAGGUACCGUCAGUAGGUCAGAAGCCUCUUCGCACUGUGGGACGACCCUUCCUCCUCCUACUCCCGGACUUACGAUCCACGGGGGAUUGACAUCAGCGAUGGAUGUCGGUCCUU\n"
     ]
    }
   ],
   "source": [
    "rseq = cseq [::-1]#Para sacar el inverso del complementario\n",
    "print(rseq)"
   ]
  },
  {
   "cell_type": "code",
   "execution_count": 13,
   "id": "0042e8f7",
   "metadata": {},
   "outputs": [
    {
     "name": "stdout",
     "output_type": "stream",
     "text": [
      "CUACCGUCCUAUAGAAGACCUCCUUCAUCAAAGGUAUUCGGACUUUUACAGAGGACCGAGUCUCCCUCGAGCUCCGACUAUAGGCUGACACUGAGGAGGUACCGUCAGUAGGUCAGAAGCCUCUUCGCACUGUGGGACGACCCUUCCUCCUCCUACUCCCGGACUUACGAUCCACGGGGGAUUGACAUCAGCGstarGstarUCGGUCCUU\n",
      "CUACCGUCCUAstopAAGACCUCCUUCAUCAAAGGUAUUCGGACUUUUACAGAGGACCGAGUCUCCCUCGAGCUCCGACUAstopGCUGACACUGAGGAGGUACCGUCAGstopGUCAGAAGCCUCUUCGCACUGUGGGACGACCCUUCCUCCUCCUACUCCCGGACUUACGAUCCACGGGGGAUUGACAUCAGCGstarGstarUCGGUCCUU\n",
      "CUACCGUCCUAUAGAAGACCUCCUUCAUCAAAGGUAUUCGGACUUUUACAGAGGACCGAGUCUCCCUCGAGCUCCGACUAUAGGCstopCACstopGGAGGUACCGUCAGUAGGUCAGAAGCCUCUUCGCACUGUGGGACGACCCUUCCUCCUCCUACUCCCGGACUUACGAUCCACGGGGGAUstopCAUCAGCGstarGstarUCGGUCCUU\n"
     ]
    }
   ],
   "source": [
    "#Cambiar de 3' A 5' sino de 5' a 3'\n",
    "rnam_show3= rseq.replace(\"AUG\",\"star\") #Remplazamos GUA como star para marcar nuestro codon de inicio en lasecuencia\n",
    "rnam_seq1= rnam_show3.replace(\"UAA\",\"stop\") #Remplazamos AAU como stOP para marcar fin de codon\n",
    "rnam_seq2= rnam_show3.replace(\"UAG\",\"stop\") #Remplazamos GAU como stOP para marcar fin de codon \n",
    "rnam_seq3= rnam_show3.replace(\"UGA\",\"stop\") #Remplazamos AGU como stOP para marcar fin de codon\n",
    "print(rnam_seq1)#RNAm CON STOP DE TAA\n",
    "print(rnam_seq2)#RNAm CON STOP TAG\n",
    "print(rnam_seq3)#RNAm CON STOP TGA"
   ]
  },
  {
   "cell_type": "code",
   "execution_count": 14,
   "id": "1dc56eaf",
   "metadata": {},
   "outputs": [
    {
     "name": "stdout",
     "output_type": "stream",
     "text": [
      "\n",
      "stopAAGACCUCCUUCAUCAAAGGUAUUCGGACUUUUACAGAGGACCGAGUCUCCCUCGAGCUCCGACUAstopGCUGACACUGAGGAGGUACCGUCAGstopGUCAGAAGCCUCUUCGCACUGUGGGACGACCCUUCCUCCUCCUACUCCCGGACUUACGAUCCACGGGGGAUUGACAUCAGCGstar\n",
      "stopCACstopGGAGGUACCGUCAGUAGGUCAGAAGCCUCUUCGCACUGUGGGACGACCCUUCCUCCUCCUACUCCCGGACUUACGAUCCACGGGGGAUstopCAUCAGCGstar\n",
      "UGAAAGACCUCCUUCAUCAAAGGUAUUCGGACUUUUACAGAGGACCGAGUCUCCCUCGAGCUCCGACUAUGAGCUGACACUGAGGAGGUACCGUCAGUGAGUCAGAAGCCUCUUCGCACUGUGGGACGACCCUUCCUCCUCCUACUCCCGGACUUACGAUCCACGGGGGAUUGACAUCAGCGAUG\n"
     ]
    }
   ],
   "source": [
    "#Seleccion de codon de ARNm\n",
    "#Marcar incio como stop y fin con star \n",
    "start = rnam_seq1.find(\"stop\") # Codon inicio\n",
    "end = rnam_seq1.find(\"star\") # Codon final\n",
    "codon1r= rnam_seq1[start : end + 4] #codon ADN1\n",
    "start = rnam_seq2.find(\"stop\") # Codon de inicio\n",
    "end = rnam_seq2.find(\"star\") # Codon de final\n",
    "codon2r= rnam_seq2[start : end + 4] #codon ADN2\n",
    "start = rnam_seq3.find(\"stop\") # Codon de inicio\n",
    "end = rnam_seq3.find(\"star\") # Codon de final\n",
    "codon3r= rnam_seq3[start : end + 4] #codon ADN3\n",
    "print(codon1r)\n",
    "print(codon2r)\n",
    "print(codon3r)\n",
    "#Codon 2 tiene mayor material genetico para traducir \n",
    "codon_showr= codon2r.replace(\"star\", \"AUG\")#traduccion de start por ATG\n",
    "RNAm_codon= codon_showr.replace(\"stop\", \"UGA\")#traduccion de stop por TGA de dna_seq3\n",
    "print(RNAm_codon) "
   ]
  },
  {
   "cell_type": "markdown",
   "id": "722c4ccb",
   "metadata": {},
   "source": [
    "<h1 style=\"color:red\">Resultado ARNm</h1></center>\n",
    "<h1 style=\"color:blac\">En la direccion 5'a 3' se podrá traducir una secuencia de ADN 3' a 5'.</h1></center>\n",
    "<h1 style=\"color:green\">UGAAAGACCUCCUUCAUCAAAGGUAUUCGGACUUUUACAGAGGACCGAGUCUCCCUCGAGCUCCGACUAUGAGCUGACACUGAGGAGGUACCGUCAGUGAGUCAGAAGCCUCUUCGCACUGUGGGACGACCCUUCCUCCUCCUACUCCCGGACUUACGAUCCACGGGGGAUUGACAUCAGCGAUG</h1></center>"
   ]
  },
  {
   "cell_type": "code",
   "execution_count": null,
   "id": "122cd9e1",
   "metadata": {},
   "outputs": [],
   "source": []
  }
 ],
 "metadata": {
  "kernelspec": {
   "display_name": "Python 3 (ipykernel)",
   "language": "python",
   "name": "python3"
  },
  "language_info": {
   "codemirror_mode": {
    "name": "ipython",
    "version": 3
   },
   "file_extension": ".py",
   "mimetype": "text/x-python",
   "name": "python",
   "nbconvert_exporter": "python",
   "pygments_lexer": "ipython3",
   "version": "3.9.12"
  }
 },
 "nbformat": 4,
 "nbformat_minor": 5
}
